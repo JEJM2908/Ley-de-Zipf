{
  "nbformat": 4,
  "nbformat_minor": 0,
  "metadata": {
    "colab": {
      "provenance": [],
      "toc_visible": true,
      "authorship_tag": "ABX9TyOYSTiUAwX8BotZatpyQEPK",
      "include_colab_link": true
    },
    "kernelspec": {
      "name": "python3",
      "display_name": "Python 3"
    },
    "language_info": {
      "name": "python"
    }
  },
  "cells": [
    {
      "cell_type": "markdown",
      "metadata": {
        "id": "view-in-github",
        "colab_type": "text"
      },
      "source": [
        "<a href=\"https://colab.research.google.com/github/JEJM2908/Ley-de-Zipf/blob/main/Ley_de_Pareto.ipynb\" target=\"_parent\"><img src=\"https://colab.research.google.com/assets/colab-badge.svg\" alt=\"Open In Colab\"/></a>"
      ]
    },
    {
      "cell_type": "markdown",
      "source": [
        "#Fenómenos emergentes: Ley de Pareto y el Crecimiento de las ciudades\n"
      ],
      "metadata": {
        "id": "vFLiYLpAAgWo"
      }
    },
    {
      "cell_type": "markdown",
      "source": [
        "##Ley de Zipf"
      ],
      "metadata": {
        "id": "g8x8AA9MHWmX"
      }
    }
  ]
}