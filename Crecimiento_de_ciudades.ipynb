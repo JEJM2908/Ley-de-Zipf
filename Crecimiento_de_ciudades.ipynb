{
  "nbformat": 4,
  "nbformat_minor": 0,
  "metadata": {
    "colab": {
      "provenance": [],
      "toc_visible": true,
      "authorship_tag": "ABX9TyM0FeLVNlB37pBRMdODpfDI",
      "include_colab_link": true
    },
    "kernelspec": {
      "name": "python3",
      "display_name": "Python 3"
    },
    "language_info": {
      "name": "python"
    }
  },
  "cells": [
    {
      "cell_type": "markdown",
      "metadata": {
        "id": "view-in-github",
        "colab_type": "text"
      },
      "source": [
        "<a href=\"https://colab.research.google.com/github/JEJM2908/Ley-de-Zipf/blob/main/Crecimiento_de_ciudades.ipynb\" target=\"_parent\"><img src=\"https://colab.research.google.com/assets/colab-badge.svg\" alt=\"Open In Colab\"/></a>"
      ]
    },
    {
      "cell_type": "markdown",
      "source": [
        "#Fenómenos emergentes: Ley de Pareto y el Crecimiento de las ciudades\n"
      ],
      "metadata": {
        "id": "vFLiYLpAAgWo"
      }
    },
    {
      "cell_type": "markdown",
      "source": [
        "##Ley de Zipf"
      ],
      "metadata": {
        "id": "g8x8AA9MHWmX"
      }
    },
    {
      "cell_type": "markdown",
      "source": [
        "###Para palabras"
      ],
      "metadata": {
        "id": "xlFPPONfvGHE"
      }
    },
    {
      "cell_type": "code",
      "source": [
        "#Librerias\n",
        "import re #libreria para uso en strings\n",
        "import matplotlib.pyplot as plt\n",
        "import numpy as np\n",
        "\n",
        "#Creo una función donde almaceno todas las palabras del texto\n",
        "def diccionario(archivo):\n",
        "    d = dict() #se crea un diccionario\n",
        "    #se abre el archivo en modo lectura \"r\" y se lo guarda como f\n",
        "    with open(archivo, \"r\") as file:\n",
        "        for line in file:\n",
        "            #Para separar a las lineas por palabras:\n",
        "              #se pasa a minisculas todo (lower);\n",
        "              #se borra el espacio en blanco al fimal de cada linea (rstrip)\n",
        "              #se toma como palabra aquel string que no contiene espacios en blanco ' '\n",
        "            line = line.lower().rstrip().split(' ')\n",
        "            for p in line:\n",
        "                p = re.sub(r'\\W+', '', p)#quiero palabras no numeros\n",
        "                #si la palabra es nueva la añado al diccionario\n",
        "                if p:\n",
        "                    d[p] = d.get(p, 0) + 1\n",
        "    return d\n",
        "\n",
        "#Defino una función para contabilizar, para ello creo un archivo con todas las palabras\n",
        "#esta funcion tiene dos argumentos, el diccionario y el archivo, busco cada palabra y la añado\n",
        "def reorganizar(dic, archivo):\n",
        "    with open(archivo, \"w\") as file:#creo un archivo en modo escritura\n",
        "        #utilizo un par key \"k\" la palabra; y su frecuencia o valor \"v\"\n",
        "        for k, v in dic.items():\n",
        "            file.write(\"{},{}\\n\".format(k, v))\n",
        "\n",
        "#Defino una función apra el histograma, ingresa un archivo, sale un archivo con los valores\n",
        "#para el histograma; y el numero de datos que deseo\n",
        "def histograma(archivo, archivo2=None, total=20):\n",
        "    # open file and extract data\n",
        "    datos = []\n",
        "    with open(archivo, \"r\") as file:\n",
        "        for i, line in enumerate(file):\n",
        "            line = line.lower().rstrip().split(',')\n",
        "            datos.append((int(line[1]), line[0]))\n",
        "    data.sort(key=lambda d: d[0], reverse=True)\n",
        "\n",
        "    #\n",
        "    datos = data[:total]\n",
        "    palabra = []\n",
        "    frecuencia = []\n",
        "    for d in data:\n",
        "        palabra.append(d[1])\n",
        "        frecuencia.append(d[0])\n",
        "\n",
        "    # print top 'limit' most frequent words\n",
        "    i = 1\n",
        "    for data in zip(palabra, frecuencia):\n",
        "        print(\"No.{}\\t\\\"{}\\\" : {}\".format(i, data[0], data[1]))\n",
        "        i += 1\n",
        "\n",
        "    # histograma\n",
        "    y_pos = np.arange(len(palabra))\n",
        "    plt.bar(y_pos, frecuencia, align='center', alpha=0.5)\n",
        "    plt.xticks(y_pos, palabra)\n",
        "    plt.ylabel('frecuencia')\n",
        "    plt.title('Palabras más ocupadas en {}'.format(archivo))\n",
        "    if archivo2:\n",
        "        plt.savefig(archivo2+'.png')\n",
        "    plt.show()"
      ],
      "metadata": {
        "id": "ns4a2a-zvICO"
      },
      "execution_count": 4,
      "outputs": []
    }
  ]
}